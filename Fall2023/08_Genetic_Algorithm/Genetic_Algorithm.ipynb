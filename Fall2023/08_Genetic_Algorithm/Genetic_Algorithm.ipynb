{
  "cells": [
    {
      "cell_type": "markdown",
      "source": [
        "Evolutionary Algorithms"
      ],
      "metadata": {
        "id": "S22zNLSkTncx"
      }
    },
    {
      "cell_type": "markdown",
      "source": [
        "![Screenshot (2349).png](data:image/png;base64,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)"
      ],
      "metadata": {
        "id": "zPKEAks1Ti-B"
      }
    },
    {
      "cell_type": "code",
      "source": [
        "import random\n",
        "\n",
        "# Define the objective function\n",
        "def objective_function(x):\n",
        "    return x**2 - 4*x + 4\n",
        "\n",
        "# Define the individual (chromosome) representation\n",
        "def generate_individual():\n",
        "    return random.uniform(-10, 10)  # You can adjust the range based on your problem\n",
        "\n",
        "# Define the genetic operations\n",
        "def crossover(parent1, parent2):\n",
        "    # Simple average crossover\n",
        "    return (parent1 + parent2) / 2\n",
        "\n",
        "def mutate(individual):\n",
        "    # Simple random mutation\n",
        "    mutation_rate = 0.1  # You can adjust the mutation rate\n",
        "    mutation = random.uniform(-1, 1) * mutation_rate\n",
        "    return individual + mutation\n",
        "\n",
        "# Define the genetic algorithm\n",
        "def genetic_algorithm(population_size, generations):\n",
        "    population = [generate_individual() for _ in range(population_size)]\n",
        "\n",
        "    for generation in range(generations):\n",
        "        # Evaluate the fitness of each individual\n",
        "        fitness = [objective_function(ind) for ind in population]\n",
        "\n",
        "        # Select the top 50% based on fitness\n",
        "        selected_indices = sorted(range(population_size), key=lambda i: fitness[i])[:population_size // 2]\n",
        "        selected_population = [population[i] for i in selected_indices]\n",
        "\n",
        "        # Create the next generation through crossover and mutation\n",
        "        new_population = []\n",
        "        for _ in range(population_size - len(selected_population)):\n",
        "            parent1 = random.choice(selected_population)\n",
        "            parent2 = random.choice(selected_population)\n",
        "            child = crossover(parent1, parent2)\n",
        "            child = mutate(child)\n",
        "            new_population.append(child)\n",
        "\n",
        "        # Replace the old population with the new one\n",
        "        population = selected_population + new_population\n",
        "\n",
        "    # Return the best individual found\n",
        "    best_individual = min(population, key=objective_function)\n",
        "    return best_individual\n",
        "\n",
        "# Example usage\n",
        "population_size = 100\n",
        "generations = 100\n",
        "best_solution = genetic_algorithm(population_size, generations)\n",
        "print(f\"Best solution: x = {best_solution}, f(x) = {objective_function(best_solution)}\")\n"
      ],
      "metadata": {
        "colab": {
          "base_uri": "https://localhost:8080/"
        },
        "id": "Fxicwj-YUunh",
        "outputId": "6b7cbed2-3955-4d42-fbf7-499968b10856"
      },
      "execution_count": null,
      "outputs": [
        {
          "output_type": "stream",
          "name": "stdout",
          "text": [
            "Best solution: x = 1.9999931752977453, f(x) = 4.657652041828442e-11\n"
          ]
        }
      ]
    }
  ],
  "metadata": {
    "colab": {
      "provenance": []
    },
    "kernelspec": {
      "display_name": "Python 3",
      "name": "python3"
    },
    "language_info": {
      "name": "python"
    }
  },
  "nbformat": 4,
  "nbformat_minor": 0
}