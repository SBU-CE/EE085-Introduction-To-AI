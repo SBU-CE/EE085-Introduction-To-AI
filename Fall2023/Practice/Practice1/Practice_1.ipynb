{
  "nbformat": 4,
  "nbformat_minor": 0,
  "metadata": {
    "colab": {
      "provenance": [],
      "toc_visible": true
    },
    "kernelspec": {
      "name": "python3",
      "display_name": "Python 3"
    },
    "language_info": {
      "name": "python"
    }
  },
  "cells": [
    {
      "cell_type": "markdown",
      "source": [
        "# Practice $1$"
      ],
      "metadata": {
        "id": "gMoE61hOeCCd"
      }
    },
    {
      "cell_type": "markdown",
      "source": [
        "## Anser Below Questions"
      ],
      "metadata": {
        "id": "Rdv5TFQdpuVR"
      }
    },
    {
      "cell_type": "markdown",
      "source": [
        "### $1$\n",
        "Calculate $7$ to the power of $4$"
      ],
      "metadata": {
        "id": "6l073Xdjp8Yk"
      }
    },
    {
      "cell_type": "code",
      "execution_count": 1,
      "metadata": {
        "id": "3_Mnnnf1pckK",
        "colab": {
          "base_uri": "https://localhost:8080/"
        },
        "outputId": "fd6f0421-e3e2-4b72-dedb-e43460cd7f34"
      },
      "outputs": [
        {
          "output_type": "execute_result",
          "data": {
            "text/plain": [
              "2401"
            ]
          },
          "metadata": {},
          "execution_count": 1
        }
      ],
      "source": []
    },
    {
      "cell_type": "markdown",
      "source": [
        "### $2$\n",
        "First define these variables, then print below sentence with 2 format\n",
        "\n",
        "planet = \"Earth\"\n",
        "<br>diameter = 12742\n",
        "\n",
        "The diameter of Earth is 12742 kilometers"
      ],
      "metadata": {
        "id": "9crPjN59qpui"
      }
    },
    {
      "cell_type": "code",
      "source": [
        "# Define Variables\n",
        "\n"
      ],
      "metadata": {
        "id": "mPSCDT1rs1U7"
      },
      "execution_count": 2,
      "outputs": []
    },
    {
      "cell_type": "code",
      "source": [
        "# First Format\n"
      ],
      "metadata": {
        "id": "FzuFUN9Uu6_u",
        "colab": {
          "base_uri": "https://localhost:8080/"
        },
        "outputId": "a95e77fa-5883-4c10-82b1-da4476da6a90"
      },
      "execution_count": 3,
      "outputs": [
        {
          "output_type": "stream",
          "name": "stdout",
          "text": [
            "The diameter of Earth is 12742 kilometers\n"
          ]
        }
      ]
    },
    {
      "cell_type": "code",
      "source": [
        "# Second Format\n"
      ],
      "metadata": {
        "id": "LUWW5FJSu5pi",
        "colab": {
          "base_uri": "https://localhost:8080/"
        },
        "outputId": "c3b797ea-fd22-426c-9d52-a8e488a0f947"
      },
      "execution_count": 4,
      "outputs": [
        {
          "output_type": "stream",
          "name": "stdout",
          "text": [
            "The diameter of Earth is 12742 kilometers\n"
          ]
        }
      ]
    },
    {
      "cell_type": "markdown",
      "source": [
        "### $3$\n",
        "With indexing return AI value from nested list"
      ],
      "metadata": {
        "id": "fwdkq-r2t7qy"
      }
    },
    {
      "cell_type": "code",
      "source": [
        "nested_list = [1, 2, [30, 40], [50, [600, 700, ['AI', 'CV', 'ML', 'DL'], 800], 90], 10, 11]"
      ],
      "metadata": {
        "id": "eBYVpt8BuLxj"
      },
      "execution_count": 5,
      "outputs": []
    },
    {
      "cell_type": "code",
      "source": [],
      "metadata": {
        "id": "FLWCxQrZvCSQ",
        "colab": {
          "base_uri": "https://localhost:8080/",
          "height": 35
        },
        "outputId": "96231d1d-c91b-4697-af8a-3c19cf487cb7"
      },
      "execution_count": 6,
      "outputs": [
        {
          "output_type": "execute_result",
          "data": {
            "text/plain": [
              "'AI'"
            ],
            "application/vnd.google.colaboratory.intrinsic+json": {
              "type": "string"
            }
          },
          "metadata": {},
          "execution_count": 6
        }
      ]
    },
    {
      "cell_type": "markdown",
      "source": [
        "### $4$\n",
        "With indexing return AI value from nested dictionary"
      ],
      "metadata": {
        "id": "piQaEeFZvC-A"
      }
    },
    {
      "cell_type": "code",
      "source": [
        "nested_dict = {'k1':[1, 2, 3, {'k20':'c++', 'k30':'python', 'course':['AI', 'Embeded', 'Micro', {'target':'AI'}]}]}"
      ],
      "metadata": {
        "id": "iTglh2PovSlR"
      },
      "execution_count": 7,
      "outputs": []
    },
    {
      "cell_type": "code",
      "source": [],
      "metadata": {
        "id": "fuZXgTRvwIpe",
        "colab": {
          "base_uri": "https://localhost:8080/",
          "height": 35
        },
        "outputId": "5664fdc7-3f92-40fc-c89d-4616640a52c2"
      },
      "execution_count": 8,
      "outputs": [
        {
          "output_type": "execute_result",
          "data": {
            "text/plain": [
              "'AI'"
            ],
            "application/vnd.google.colaboratory.intrinsic+json": {
              "type": "string"
            }
          },
          "metadata": {},
          "execution_count": 8
        }
      ]
    },
    {
      "cell_type": "markdown",
      "source": [
        "### $5$\n",
        " Implement a function that gets an email address and returns the domain of the email."
      ],
      "metadata": {
        "id": "IRk3U8DUwJFZ"
      }
    },
    {
      "cell_type": "code",
      "source": [
        "def domain(email):\n",
        "  pass"
      ],
      "metadata": {
        "id": "MubrsemPwYku"
      },
      "execution_count": 9,
      "outputs": []
    },
    {
      "cell_type": "code",
      "source": [
        "domain('alireza00bin@gmail.com')"
      ],
      "metadata": {
        "id": "SUOrktfrwroX",
        "colab": {
          "base_uri": "https://localhost:8080/",
          "height": 35
        },
        "outputId": "21605a74-dea1-4b96-e75c-83ba3cb8b4ec"
      },
      "execution_count": 10,
      "outputs": [
        {
          "output_type": "execute_result",
          "data": {
            "text/plain": [
              "'gmail'"
            ],
            "application/vnd.google.colaboratory.intrinsic+json": {
              "type": "string"
            }
          },
          "metadata": {},
          "execution_count": 10
        }
      ]
    },
    {
      "cell_type": "code",
      "source": [
        "domain('itistest@yahoo.com')"
      ],
      "metadata": {
        "id": "9rAChlnexsx7",
        "colab": {
          "base_uri": "https://localhost:8080/",
          "height": 35
        },
        "outputId": "7837535f-fa2b-4747-ee06-06e6261b939d"
      },
      "execution_count": 11,
      "outputs": [
        {
          "output_type": "execute_result",
          "data": {
            "text/plain": [
              "'yahoo'"
            ],
            "application/vnd.google.colaboratory.intrinsic+json": {
              "type": "string"
            }
          },
          "metadata": {},
          "execution_count": 11
        }
      ]
    },
    {
      "cell_type": "markdown",
      "source": [
        "### $6$\n",
        "Implement a function that prompts the user for a fraction, formatted as $X/Y$, wherein each of $X$ and $Y$ is an integer, and then outputs, as a percentage rounded to the nearest integer. If, the percentage, is $1$% or less, output E. And if $99$% or more remains, output F.<br>If, though, $X$ or $Y$ is not an integer, $Y$ is greater than $Y$, or $Y$ is 0, instead prompt the user again. Be sure to catch any exceptions like ValueError or ZeroDivisionError.\n",
        "\n"
      ],
      "metadata": {
        "id": "PzyeYgTJxzsm"
      }
    },
    {
      "cell_type": "code",
      "source": [
        "def percentage(fraction):\n",
        "    pass"
      ],
      "metadata": {
        "id": "TUHrs7hGwwR0"
      },
      "execution_count": 12,
      "outputs": []
    },
    {
      "cell_type": "code",
      "source": [],
      "metadata": {
        "colab": {
          "base_uri": "https://localhost:8080/"
        },
        "id": "umZkVrG7832j",
        "outputId": "fba3794c-71fa-4886-9648-c80b1f823046"
      },
      "execution_count": 13,
      "outputs": [
        {
          "output_type": "stream",
          "name": "stdout",
          "text": [
            "Enter a Fraction: cat/dog\n",
            "Enter a Fraction: 1/0\n",
            "Enter a Fraction: 1/4\n",
            "25%\n"
          ]
        }
      ]
    },
    {
      "cell_type": "markdown",
      "source": [
        "### $7$\n",
        "Create a file called student.txt with Python. After that write 5 names separately in 5 lines. Then read student.txt and print all names."
      ],
      "metadata": {
        "id": "615npTrs0qoo"
      }
    },
    {
      "cell_type": "markdown",
      "source": [
        "#### Write"
      ],
      "metadata": {
        "id": "WpClBQvrBRVq"
      }
    },
    {
      "cell_type": "code",
      "source": [],
      "metadata": {
        "id": "NSEz0M560pgl",
        "colab": {
          "base_uri": "https://localhost:8080/"
        },
        "outputId": "2b4113a3-6e3c-4d09-9236-bde5b9f2bc2a"
      },
      "execution_count": 14,
      "outputs": [
        {
          "name": "stdout",
          "output_type": "stream",
          "text": [
            "Name: Alireza\n",
            "Name: Mohammad\n",
            "Name: Mehrshad\n",
            "Name: Nawid\n",
            "Name: Kian\n"
          ]
        }
      ]
    },
    {
      "cell_type": "markdown",
      "source": [
        "#### Read"
      ],
      "metadata": {
        "id": "eJlZi_2BBUcx"
      }
    },
    {
      "cell_type": "code",
      "source": [],
      "metadata": {
        "colab": {
          "base_uri": "https://localhost:8080/"
        },
        "id": "0K5LLlcr_nTv",
        "outputId": "bb27b67d-6a95-4ae4-ccaf-25dff778ebaf"
      },
      "execution_count": 15,
      "outputs": [
        {
          "output_type": "stream",
          "name": "stdout",
          "text": [
            "Alireza\n",
            "Mohammad\n",
            "Mehrshad\n",
            "Nawid\n",
            "Kian\n"
          ]
        }
      ]
    }
  ]
}