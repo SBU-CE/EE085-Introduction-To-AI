{
  "cells": [
    {
      "cell_type": "markdown",
      "metadata": {
        "id": "gMoE61hOeCCd"
      },
      "source": [
        "# Practice $1$"
      ]
    },
    {
      "cell_type": "markdown",
      "metadata": {
        "id": "Rdv5TFQdpuVR"
      },
      "source": [
        "## Answer Below Questions"
      ]
    },
    {
      "cell_type": "markdown",
      "metadata": {
        "id": "6l073Xdjp8Yk"
      },
      "source": [
        "### $1$\n",
        "Calculate $7$ to the power of $4$"
      ]
    },
    {
      "cell_type": "code",
      "execution_count": 1,
      "metadata": {
        "colab": {
          "base_uri": "https://localhost:8080/"
        },
        "id": "3_Mnnnf1pckK",
        "outputId": "fd6f0421-e3e2-4b72-dedb-e43460cd7f34"
      },
      "outputs": [
        {
          "data": {
            "text/plain": [
              "2401"
            ]
          },
          "execution_count": 1,
          "metadata": {},
          "output_type": "execute_result"
        }
      ],
      "source": [
        "7**4"
      ]
    },
    {
      "cell_type": "markdown",
      "metadata": {
        "id": "9crPjN59qpui"
      },
      "source": [
        "### $2$\n",
        "First define these variables, then print below sentence with 2 format\n",
        "\n",
        "planet = \"Earth\"\n",
        "<br>diameter = 12742\n",
        "\n",
        "The diameter of Earth is 12742 kilometers"
      ]
    },
    {
      "cell_type": "code",
      "execution_count": 2,
      "metadata": {
        "id": "mPSCDT1rs1U7"
      },
      "outputs": [],
      "source": [
        "# Define Variables\n",
        "\n",
        "planet = \"Earth\"\n",
        "diameter = 12742"
      ]
    },
    {
      "cell_type": "code",
      "execution_count": 3,
      "metadata": {
        "colab": {
          "base_uri": "https://localhost:8080/"
        },
        "id": "FzuFUN9Uu6_u",
        "outputId": "a95e77fa-5883-4c10-82b1-da4476da6a90"
      },
      "outputs": [
        {
          "name": "stdout",
          "output_type": "stream",
          "text": [
            "The diameter of Earth is 12742 kilometers\n"
          ]
        }
      ],
      "source": [
        "# First Format\n",
        "print(\"The diameter of\", planet,\"is\", diameter,\"kilometers\")"
      ]
    },
    {
      "cell_type": "code",
      "execution_count": 4,
      "metadata": {
        "colab": {
          "base_uri": "https://localhost:8080/"
        },
        "id": "LUWW5FJSu5pi",
        "outputId": "c3b797ea-fd22-426c-9d52-a8e488a0f947"
      },
      "outputs": [
        {
          "name": "stdout",
          "output_type": "stream",
          "text": [
            "The diameter of Earth is 12742 kilometers\n"
          ]
        }
      ],
      "source": [
        "# Second Format\n",
        "print(f\"The diameter of {planet} is {diameter} kilometers\")"
      ]
    },
    {
      "cell_type": "markdown",
      "metadata": {
        "id": "fwdkq-r2t7qy"
      },
      "source": [
        "### $3$\n",
        "With indexing return AI value from nested list"
      ]
    },
    {
      "cell_type": "code",
      "execution_count": 5,
      "metadata": {
        "id": "eBYVpt8BuLxj"
      },
      "outputs": [],
      "source": [
        "nested_list = [1, 2, [30, 40], [50, [600, 700, ['AI', 'CV', 'ML', 'DL'], 800], 90], 10, 11]"
      ]
    },
    {
      "cell_type": "code",
      "execution_count": 6,
      "metadata": {
        "colab": {
          "base_uri": "https://localhost:8080/",
          "height": 35
        },
        "id": "FLWCxQrZvCSQ",
        "outputId": "96231d1d-c91b-4697-af8a-3c19cf487cb7"
      },
      "outputs": [
        {
          "data": {
            "application/vnd.google.colaboratory.intrinsic+json": {
              "type": "string"
            },
            "text/plain": [
              "'AI'"
            ]
          },
          "execution_count": 6,
          "metadata": {},
          "output_type": "execute_result"
        }
      ],
      "source": [
        "nested_list[3][1][2][0]"
      ]
    },
    {
      "cell_type": "markdown",
      "metadata": {
        "id": "piQaEeFZvC-A"
      },
      "source": [
        "### $4$\n",
        "With indexing return AI value from nested dictionary"
      ]
    },
    {
      "cell_type": "code",
      "execution_count": 7,
      "metadata": {
        "id": "iTglh2PovSlR"
      },
      "outputs": [],
      "source": [
        "nested_dict = {'k1':[1, 2, 3, {'k20':'c++', 'k30':'python', 'course':['AI', 'Embeded', 'Micro', {'target':'AI'}]}]}"
      ]
    },
    {
      "cell_type": "code",
      "execution_count": 8,
      "metadata": {
        "colab": {
          "base_uri": "https://localhost:8080/",
          "height": 35
        },
        "id": "fuZXgTRvwIpe",
        "outputId": "5664fdc7-3f92-40fc-c89d-4616640a52c2"
      },
      "outputs": [
        {
          "data": {
            "application/vnd.google.colaboratory.intrinsic+json": {
              "type": "string"
            },
            "text/plain": [
              "'AI'"
            ]
          },
          "execution_count": 8,
          "metadata": {},
          "output_type": "execute_result"
        }
      ],
      "source": [
        "nested_dict['k1'][-1]['course'][-1]['target']"
      ]
    },
    {
      "cell_type": "markdown",
      "metadata": {
        "id": "IRk3U8DUwJFZ"
      },
      "source": [
        "### $5$\n",
        " Implement a function that gets an email address and returns the domain of the email."
      ]
    },
    {
      "cell_type": "code",
      "execution_count": 9,
      "metadata": {
        "id": "MubrsemPwYku"
      },
      "outputs": [],
      "source": [
        "def domain(email):\n",
        "  return email.split('@')[-1].split('.')[0]"
      ]
    },
    {
      "cell_type": "code",
      "execution_count": 10,
      "metadata": {
        "colab": {
          "base_uri": "https://localhost:8080/",
          "height": 35
        },
        "id": "SUOrktfrwroX",
        "outputId": "21605a74-dea1-4b96-e75c-83ba3cb8b4ec"
      },
      "outputs": [
        {
          "data": {
            "application/vnd.google.colaboratory.intrinsic+json": {
              "type": "string"
            },
            "text/plain": [
              "'gmail'"
            ]
          },
          "execution_count": 10,
          "metadata": {},
          "output_type": "execute_result"
        }
      ],
      "source": [
        "domain('alireza00bin@gmail.com')"
      ]
    },
    {
      "cell_type": "code",
      "execution_count": 11,
      "metadata": {
        "colab": {
          "base_uri": "https://localhost:8080/",
          "height": 35
        },
        "id": "9rAChlnexsx7",
        "outputId": "7837535f-fa2b-4747-ee06-06e6261b939d"
      },
      "outputs": [
        {
          "data": {
            "application/vnd.google.colaboratory.intrinsic+json": {
              "type": "string"
            },
            "text/plain": [
              "'yahoo'"
            ]
          },
          "execution_count": 11,
          "metadata": {},
          "output_type": "execute_result"
        }
      ],
      "source": [
        "domain('itistest@yahoo.com')"
      ]
    },
    {
      "cell_type": "markdown",
      "metadata": {
        "id": "PzyeYgTJxzsm"
      },
      "source": [
        "### $6$\n",
        "Implement a function that prompts the user for a fraction, formatted as $X/Y$, wherein each of $X$ and $Y$ is an integer, and then outputs, as a percentage rounded to the nearest integer. If, the percentage, is $1$% or less, output E. And if $99$% or more, output F.<br>If, though, $X$ or $Y$ is not an integer, $X$ is greater than $Y$, or $Y$ is 0, instead prompt the user again. Be sure to catch any exceptions like ValueError or ZeroDivisionError.\n",
        "\n"
      ]
    },
    {
      "cell_type": "code",
      "execution_count": 12,
      "metadata": {
        "id": "TUHrs7hGwwR0"
      },
      "outputs": [],
      "source": [
        "def percentage(fraction):\n",
        "    x, y = fraction.split('/')\n",
        "    if int(x) > int(y):\n",
        "      raise ValueError()\n",
        "    elif int(y) == 0:\n",
        "      raise ZeroDivisionError()\n",
        "    else:\n",
        "      return round((int(x)/int(y))*100)"
      ]
    },
    {
      "cell_type": "code",
      "execution_count": 13,
      "metadata": {
        "colab": {
          "base_uri": "https://localhost:8080/"
        },
        "id": "umZkVrG7832j",
        "outputId": "fba3794c-71fa-4886-9648-c80b1f823046"
      },
      "outputs": [
        {
          "name": "stdout",
          "output_type": "stream",
          "text": [
            "Enter a Fraction: cat/dog\n",
            "Enter a Fraction: 1/0\n",
            "Enter a Fraction: 1/4\n",
            "25%\n"
          ]
        }
      ],
      "source": [
        "while True:\n",
        "  try:\n",
        "    f = input(\"Enter a Fraction: \")\n",
        "    if percentage(f) <= 1:\n",
        "      print(\"E\")\n",
        "      break\n",
        "    elif percentage(f) >= 99:\n",
        "      print(\"F\")\n",
        "      break\n",
        "    else:\n",
        "      print(str(percentage(f))+\"%\")\n",
        "      break\n",
        "  except (ValueError, ZeroDivisionError):\n",
        "    continue"
      ]
    },
    {
      "cell_type": "markdown",
      "metadata": {
        "id": "615npTrs0qoo"
      },
      "source": [
        "### $7$\n",
        "Create a file called student.txt with Python. After that write 5 names separately in 5 lines. Then read student.txt and print all names."
      ]
    },
    {
      "cell_type": "code",
      "execution_count": 14,
      "metadata": {
        "colab": {
          "base_uri": "https://localhost:8080/"
        },
        "id": "NSEz0M560pgl",
        "outputId": "2b4113a3-6e3c-4d09-9236-bde5b9f2bc2a"
      },
      "outputs": [
        {
          "name": "stdout",
          "output_type": "stream",
          "text": [
            "Name: Alireza\n",
            "Name: Mohammad\n",
            "Name: Mehrshad\n",
            "Name: Nawid\n",
            "Name: Kian\n"
          ]
        }
      ],
      "source": [
        "with open('student.txt', 'w') as f:\n",
        "  for _ in range(5):\n",
        "    f.write(input(\"Name: \")+\"\\n\")"
      ]
    },
    {
      "cell_type": "code",
      "execution_count": 15,
      "metadata": {
        "colab": {
          "base_uri": "https://localhost:8080/"
        },
        "id": "0K5LLlcr_nTv",
        "outputId": "bb27b67d-6a95-4ae4-ccaf-25dff778ebaf"
      },
      "outputs": [
        {
          "name": "stdout",
          "output_type": "stream",
          "text": [
            "Alireza\n",
            "Mohammad\n",
            "Mehrshad\n",
            "Nawid\n",
            "Kian\n"
          ]
        }
      ],
      "source": [
        "with open('student.txt', 'r') as f:\n",
        "  lines = f.readlines()\n",
        "  for l in lines:\n",
        "    print(l, end='')"
      ]
    },
    {
      "cell_type": "code",
      "execution_count": null,
      "metadata": {
        "id": "UdI0qT5EAulI"
      },
      "outputs": [],
      "source": []
    }
  ],
  "metadata": {
    "colab": {
      "provenance": []
    },
    "kernelspec": {
      "display_name": "Python 3",
      "name": "python3"
    },
    "language_info": {
      "name": "python"
    }
  },
  "nbformat": 4,
  "nbformat_minor": 0
}
